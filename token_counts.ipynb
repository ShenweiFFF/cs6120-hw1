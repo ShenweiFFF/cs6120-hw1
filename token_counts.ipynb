{
  "nbformat": 4,
  "nbformat_minor": 0,
  "metadata": {
    "colab": {
      "name": "term-statistics.ipynb",
      "provenance": [],
      "authorship_tag": "ABX9TyMCh8EtGe2BWnCwyHKTFzuh",
      "include_colab_link": true
    },
    "kernelspec": {
      "name": "python3",
      "display_name": "Python 3"
    },
    "language_info": {
      "name": "python"
    }
  },
  "cells": [
    {
      "cell_type": "markdown",
      "metadata": {
        "id": "view-in-github",
        "colab_type": "text"
      },
      "source": [
        "<a href=\"https://colab.research.google.com/github/dasmiq/cs6120-hw1/blob/main/token_counts.ipynb\" target=\"_parent\"><img src=\"https://colab.research.google.com/assets/colab-badge.svg\" alt=\"Open In Colab\"/></a>"
      ]
    },
    {
      "cell_type": "markdown",
      "metadata": {
        "id": "2yYCQrU0J5C5"
      },
      "source": [
        "# Empirical Regularities of Language\n",
        "\n",
        "In this first homework assignment, you will familiarize yourself with some empirical regularities of natural language, Shannon entropy and Zipf's Law.\n",
        "\n",
        "Read through this Jupyter notebook and fill in the parts marked with `TODO`.\n",
        "\n",
        "## Shannon Entropy\n",
        "\n",
        "Shannon borrowed the concept of entropy from statistical physics to develop _information theory_, focused on encoding and compressing messages. A few years later, in 1950, he applied information theory to analyze human predictive ability—in other words, the entropy of the human language model. You can read the original article, [Prediction and Entropy of Printed English](https://languagelog.ldc.upenn.edu/myl/Shannon1950.pdf), for more details.\n",
        "\n",
        "Your first task is to collect data on how predictable different letters are in an English sentence, depending on how much context in a word or sentence you have.\n",
        "\n",
        "Go to the [Shannon game page](https://www.ccs.neu.edu/home/dasmith/courses/cs6120/shannon/) that we demonstrated in class. We already guessed part of Text 1, so work through Texts 2, 3, and 4."
      ]
    },
    {
      "cell_type": "code",
      "source": [
        "# TODO: Enter the arrays of numbers of guesses for Texts 2, 3, and 4 here."
      ],
      "metadata": {
        "id": "n6siYs-p0-_E"
      },
      "execution_count": null,
      "outputs": []
    },
    {
      "cell_type": "markdown",
      "source": [
        "Rearrange the guess data into a two-dimensional array, relating number of characters of context (0, 1, 2, ...) to number of guesses required.\n",
        "\n",
        "In other words, you might look in cell (2, 1) and read \"2\" if the number of times it took one guess to get the right letter with two characters of context was 2."
      ],
      "metadata": {
        "id": "3P2UvFmj2Ep2"
      }
    },
    {
      "cell_type": "code",
      "source": [
        "# TODO: Create array of counts of guesses. Print out the array so we can see it."
      ],
      "metadata": {
        "id": "deK9pKWC1Qp_"
      },
      "execution_count": null,
      "outputs": []
    },
    {
      "cell_type": "markdown",
      "source": [
        "Now you can compute Shannon's upper and lower bounds on the entropy of your predictive distribution for English. The upper bound, as a function of the number of context characters $N$, is just the Shannon entropy of the distribution of numbers of guesses. In other words, it's the entropy of the original text as &ldquo;reduced&rdquo; by the human encoder to a sequence of numbers of guesses.\n",
        "\n",
        "$F_N = -\\sum_{i=1}^{27} q_i^N \\log_2 q_i^N$\n",
        "\n",
        "where $q_i^N$ is the number of times you took $i$ guesses with $N$ characters of context, i.e., one of the cells in the table you computed. The number of guesses ranges from 1 to 27 since we restrict ourselves to 26 letters plus space. In computing entropy, we define $0 \\log 0 = 0$."
      ],
      "metadata": {
        "id": "BR9BqdYO2eTO"
      }
    },
    {
      "cell_type": "code",
      "source": [
        "# TODO: Compute the upper bound for each amount of context N and print it out."
      ],
      "metadata": {
        "id": "4ubcFqVv4CjC"
      },
      "execution_count": null,
      "outputs": []
    },
    {
      "cell_type": "markdown",
      "source": [
        "Shannon derived a lower bound on entropy from the guess data as\n",
        "\n",
        "$\\sum_{i=1}^{27} i(q_i^N - q_{i+1}^N) \\log_2 i$"
      ],
      "metadata": {
        "id": "NRULmLAM4I5g"
      }
    },
    {
      "cell_type": "code",
      "source": [
        "# TODO: Compute thew lower bound for each amount of context N and print it out."
      ],
      "metadata": {
        "id": "QjRBkxVdB-4S"
      },
      "execution_count": null,
      "outputs": []
    },
    {
      "cell_type": "markdown",
      "source": [
        "## Zipf's Law\n",
        "\n",
        "Now let's look at some text data directly to see the skewed distribution of tokens predicted by Zipf's Law. Recall that Zipf's law states that a word's rank (from the most common word at rank 1 on down) to its frequency is approximately a constant, i.e., $r \\cdot f = k$. Equivalently, we can divide both sides by the total number of tokens $N$ to get $r \\cdot P_r = c$, where $c = k/N$ and $P_r = f/N$ is the _relative frequency_ of word $r$.\n",
        "\n",
        "We start by downloading a sample of 1000 open-access English books from [Project Gutenberg](https://gutenberg.org/)."
      ],
      "metadata": {
        "id": "QRingmXrfJSI"
      }
    },
    {
      "cell_type": "code",
      "source": [
        "# If your local environment doesn't have the wget command,\n",
        "# you can comment this out and download it manually.\n",
        "!wget \"http://khoury.northeastern.edu/home/dasmith/pg-sample.json.gz\""
      ],
      "metadata": {
        "id": "iwJS1ClihN_I"
      },
      "execution_count": null,
      "outputs": []
    },
    {
      "cell_type": "markdown",
      "source": [
        "The file is compressed with gzip and is in a JSON lines format. Each line is one JSON record, which we parse with the `json` library.\n",
        "\n",
        "Here we print out the first record and its keys: `id`, `author`, `title`, and `text`."
      ],
      "metadata": {
        "id": "rcOHU_GPiYwH"
      }
    },
    {
      "cell_type": "code",
      "source": [
        "import gzip, json\n",
        "for line in gzip.open(\"pg-sample.json.gz\", mode=\"rt\", encoding=\"utf-8\"):\n",
        "  rec = json.loads(line)\n",
        "  print(rec)\n",
        "  print(rec.keys())\n",
        "  break"
      ],
      "metadata": {
        "id": "_L3x1DRZhfTb",
        "outputId": "05a14325-7879-456c-8068-d6402f6249fb",
        "colab": {
          "base_uri": "https://localhost:8080/"
        }
      },
      "execution_count": 6,
      "outputs": [
        {
          "output_type": "stream",
          "name": "stdout",
          "text": [
            "{'id': 'PG1', 'author': 'Jefferson, Thomas', 'title': 'The Declaration of Independence of the United States of America', 'text': '\\n\\nThis is a retranscription of one of the first Project\\nGutenberg Etexts, offically dated December 31, 1974--\\nand now officially re-released on November 19, 1993--\\n130 years after it was spoken. We will rerelease the\\nInaugural Address of President Kennedy, officially on\\nNovember 22, 1993, on the day of the 30th anniversary\\nof his assassination.\\n\\n\\n\\nLincoln\\'s Gettysburg Address, given November 19, 1863\\non the battlefield near Gettysburg, Pennsylvania, USA\\n\\n\\nFour score and seven years ago, our fathers brought forth\\nupon this continent a new nation: conceived in liberty, and\\ndedicated to the proposition that all men are created equal.\\n\\nNow we are engaged in a great civil war. . .testing whether\\nthat nation, or any nation so conceived and so dedicated. . .\\ncan long endure. We are met on a great battlefield of that war.\\n\\nWe have come to dedicate a portion of that field as a final resting place\\nfor those who here gave their lives that this nation might live.\\nIt is altogether fitting and proper that we should do this.\\n\\nBut, in a larger sense, we cannot dedicate. . .we cannot consecrate. . .\\nwe cannot hallow this ground. The brave men, living and dead,\\nwho struggled here have consecrated it, far above our poor power\\nto add or detract. The world will little note, nor long remember,\\nwhat we say here, but it can never forget what they did here.\\n\\nIt is for us the living, rather, to be dedicated here to the unfinished\\nwork which they who fought here have thus far so nobly advanced.\\nIt is rather for us to be here dedicated to the great task remaining\\nbefore us. . .that from these honored dead we take increased devotion\\nto that cause for which they gave the last full measure of devotion. . .\\nthat we here highly resolve that these dead shall not have died in vain. . .\\nthat this nation, under God, shall have a new birth of freedom. . .\\nand that government of the people. . .by the people. . .for the people. . .\\nshall not perish from this earth.\\n\\n\\n\\n\\nDecember, 1975 [Etext #5]\\n\\n\\n*****The Project Gutenberg Etext of The U. S. Constitution*****\\n\\nThe following edition of The Consitution of the United States of America\\nhas been based on many hours of study of a variety of editions, and will\\ninclude certain variant spellings, punctuation, and captialization as we\\nhave been able to reasonable ascertain belonged to the orginal. In case\\nof internal discrepancies in these matters, most or all have been left.\\n\\nIn our orginal editions the letters were all CAPITALS, and we did not do\\nanything about capitalization, consistent or otherwise, nor with most of\\nthe punctuation, since we had limited punctionation in those days.\\n\\nThis document does NOT include the amendments, as the Bill of Rights was\\none of our earlier Project Gutenberg Etexts, and the others will be sent\\nin a separate posting.\\n\\n***\\n\\nWe would ask that any Consitutional scholars would please take a minute,\\nor longer, to send us a note concerning possible corrections.\\n\\n***\\n\\n\\n\\nTHE CONSTITUTION OF THE UNITED STATES OF AMERICA, 1787\\n\\n\\n\\nWe the people of the United States, in Order to form a more perfect Union,\\nestablish Justice, insure domestic Tranquility, provide for the common defence,\\npromote the general Welfare, and secure the Blessings of Liberty to ourselves\\nand our Posterity, do ordain and establish this Constitution for the\\nUnited States of America.\\n\\n\\nArticle 1\\n\\nSection 1. All legislative Powers herein granted shall be vested in a\\nCongress of the United States, which shall consist of a Senate and\\nHouse of Representatives.\\n\\nSection 2. The House of Representatives shall be composed of Members\\nchosen every second Year by the People of the several States,\\nand the electors in each State shall have the qualifications requisite\\nfor electors of the most numerous branch of the State legislature.\\n\\nNo Person shall be a Representative who shall not have attained to the\\nAge of twenty five Years, and been seven Years a citizen of the United States,\\nand who shall not, when elected, be an Inhabitant of that State in which\\nhe shall be chosen.\\n\\nRepresentatives and direct Taxes shall be apportioned among\\nthe several States which may be included within this Union,\\naccording to their respective Numbers, which shall be determined\\nby adding to the whole number of free Persons, including those\\nbound to Service for a Term of Years, and excluding Indians not taxed,\\nthree fifths of all other Persons. The actual Enumeration shall be made\\nwithin three Years after the first Meeting of the Congress of the\\nUnited States, and within every subsequent Term of ten Years,\\nin such Manner as they shall by law Direct. The number of\\nRepresentatives shall not exceed one for every thirty Thousand,\\nbut each State shall have at least one Representative;\\nand until such enumeration shall be made, the State of New Hampshire\\nshall be entitled to chuse three, Massachusetts eight, Rhode Island\\nand Providence Plantations one, Connecticut five, New York six,\\nNew Jersey four, Pennsylvania eight, Delaware one, Maryland six,\\nVirginia ten, North Carolina five, South Carolina five, and Georgia three.\\n\\nWhen vacancies happen in the Representation from any State, the Executive\\nAuthority thereof shall issue Writs of Election to fill such Vacancies.\\n\\nThe House of Representatives shall chuse their Speaker and other Officers;\\nand shall have the sole Power of Impeachment.\\n\\nSection 3. The Senate of the United States shall be composed of\\ntwo Senators from each State, chosen by the legislature thereof,\\nfor six Years; and each Senator shall have one Vote.\\n\\nImmediately after they shall be assembled in Consequence of the first Election,\\nthey shall be divided as equally as may be into three Classes. The Seats of\\nthe Senators of the first Class shall be vacated at the expiration of the\\nsecond Year, of the second Class at the expiration of the fourth Year,\\nand of the third Class at the expiration of the sixth Year, so that one third\\nmay be chosen every second Year; and if vacancies happen by Resignation,\\nor otherwise, during the recess of the Legislature of any State,\\nthe Executive thereof may make temporary Appointments until the\\nnext meeting of the Legislature, which shall then fill such Vacancies.\\n\\nNo person shall be a Senator who shall not have attained to the Age of\\nthirty Years, and been nine Years a Citizen of the United States,\\nand who shall not, when elected, be an Inhabitant of that State\\nfor which he shall be chosen.\\n\\nThe Vice-President of the United States shall be President of the Senate,\\nbut shall have no Vote, unless they be equally divided.\\n\\nThe Senate shall choose their other Officers, and also a President\\npro tempore, in the Absence of the Vice-President, or when he shall\\nexercise the Office of President of the United States.\\n\\nThe Senate shall have the sole Power to try all Impeachments.\\nWhen sitting for that Purpose, they shall be on Oath or Affirmation.\\nWhen the President of the United States is tried, the Chief Justice\\nshall preside: And no Person shall be convicted without the Concurrence\\nof two thirds of the Members present.\\n\\nJudgment in cases of Impeachment shall not extend further than to removal\\nfrom Office, and disqualification to hold and enjoy any Office of honor,\\nTrust or Profit under the United States: but the Party convicted shall\\nnevertheless be liable and subject to Indictment, Trial, Judgment and\\nPunishment, according to Law.\\n\\nSection 4. The Times, Places and Manner of holding Elections for Senators and\\nRepresentatives, shall be prescribed in each State by the Legislature thereof;\\nbut the Congress may at any time by Law make or alter such Regulations,\\nexcept as to the Places of chusing Senators.\\n\\nThe Congress shall assemble at least once in every Year,\\nand such Meeting shall be on the first Monday in December,\\nunless they shall by law appoint a different Day.\\n\\n\\nSection 5. Each House shall be the Judge of the Elections,\\nReturns and Qualifications of its own Members, and a\\nMajority of each shall constitute a Quorum to do Business;\\nbut a smaller Number may adjourn from day to day,\\nand may be authorized to compel the Attendance of absent Members,\\nin such Manner, and under such Penalties as each House may provide.\\n\\nEach house may determine the Rules of its Proceedings,\\npunish its Members for disorderly Behavior, and, with the\\nConcurrence of two-thirds, expel a Member.\\n\\nEach house shall keep a Journal of its Proceedings,\\nand from time to time publish the same, excepting such Parts as may\\nin their Judgment require Secrecy; and the Yeas and Nays of the\\nMembers of either House on any question shall, at the Desire of\\none fifth of those Present, be entered on the Journal.\\n\\nNeither House, during the Session of Congress, shall, without the\\nConsent of the other, adjourn for more than three days, nor to\\nany other Place than that in which the two Houses shall be sitting.\\n\\nSection 6. The Senators and Representatives shall receive a Compensation\\nfor their Services, to be ascertained by Law, and paid out of the Treasury\\nof the United States. They shall in all Cases, except Treason, Felony and\\nBreach of the Peace, be privileged from Arrest during their Attendance\\nat the Session of their respective Houses, and in going to and returning\\nfrom the same; and for any Speech or Debate in either House,\\nthey shall not be questioned in any other Place.\\n\\nNo Senator or Representative shall, during the Time for which he was elected,\\nbe appointed to any civil Office under the authority of the United States,\\nwhich shall have been created, or the Emoluments whereof shall have been\\nincreased during such time; and no Person holding any Office under the\\nUnited States, shall be a Member of either House during his Continuance\\nin Office.\\n\\nSection 7. All Bills for raising Revenue shall originate in the\\nHouse of Representatives; but the Senate may propose or concur with\\nAmendments as on other Bills.\\n\\nEvery Bill which shall have passed the House of Representatives and\\nthe Senate, shall, before it become a Law, be presented to the\\nPresident of the United States; If he approve he shall sign it,\\nbut if not he shall return it, with his Objections to that House\\nin which it shall have originated, who shall enter the Objections\\nat large on their Journal, and proceed to reconsider it.\\nIf after such Reconsideration two thirds of that house\\nshall agree to pass the Bill, it shall be sent,\\ntogether with the Objections, to the other House, by which\\nit shall likewise be reconsidered, and if approved by two thirds\\nof that House, it shall become a law. But in all such Cases\\nthe Votes of both Houses shall be determined by Yeas and Nays,\\nand the Names of the Persons voting for and against the Bill shall be\\nentered on the Journal of each House respectively. If any Bill\\nshall not be returned by the President within ten Days (Sundays excepted)\\nafter it shall have been presented to him, the Same shall be a Law,\\nin like Manner as if he had signed it, unless the Congress by their\\nAdjournment prevent its Return, in which case it shall not be a Law.\\n\\nEvery Order, Resolution, or Vote to which the Concurrence of the Senate\\nand House of Representatives may be necessary (except on a question\\nof Adjournment) shall be presented to the President of the United States;\\nand before the Same shall take Effect, shall be approved by him,\\nor being disapproved by him, shall be repassed by two thirds of\\nthe Senate and House of Representatives, according to the Rules\\nand Limitations prescribed in the Case of a Bill.\\n\\nSection 8. The Congress shall have Power to lay and collect Taxes, Duties,\\nImposts and Excises, to pay the Debts and provide for the common Defence\\nand general Welfare of the United States; but all Duties, Imposts and Excises\\nshall be uniform throughout the United States;\\n\\nTo borrow Money on the credit of the United States;\\n\\nTo regulate Commerce with foreign Nations, and among the several States,\\nand with the Indian Tribes;\\n\\nTo establish an uniform Rule of Naturalization, and uniform Laws\\non the subject of Bankruptcies throughout the United States;\\n\\nTo coin Money, regulate the Value thereof, and of foreign Coin,\\nand fix the Standard of Weights and Measures;\\n\\nTo provide for the Punishment of counterfeiting the Securities\\nand current Coin of the United States;\\n\\nTo establish Post Offices and Post Roads;\\n\\nTo promote the Progress of Science and useful Arts, by securing\\nfor limited Times to Authors and Inventors the exclusive Right\\nto their respective Writings and Discoveries;\\n\\nTo constitute Tribunals inferior to the supreme Court;\\n\\nTo define and punish Piracies and Felonies committed on the high Seas,\\nand Offenses against the Law of Nations;\\n\\nTo declare War, grant Letters of Marque and Reprisal,\\nand make Rules concerning Captures on Land and Water;\\n\\nTo raise and support Armies, but no Appropriation of Money to that Use\\nshall be for a longer term than two Years;\\n\\nTo provide and maintain a Navy;\\n\\nTo make Rules for the Government and Regulation of the land and naval Forces;\\n\\nTo provide for calling forth the Militia to execute the Laws of the Union,\\nsuppress Insurrections and repel Invasions;\\n\\nTo provide for organizing, arming, and disciplining, the Militia, and for\\ngoverning such Part of them as may be employed in the Service of the\\nUnited States, reserving to the States respectively, the Appointment\\nof the Officers, and the Authority of training the militia according\\nto the discipline prescribed by Congress;\\n\\nTo exercise exclusive Legislation in all Cases whatsoever,\\nover such District (not exceeding ten Miles square) as may,\\nby Cession of particular States, and the Acceptance of Congress,\\nbecome the Seat of the Government of the United States, and to\\nexercise like Authority over all Places purchased by the Consent\\nof the Legislature of the State in which the Same shall be,\\nfor the Erection of Forts, Magazines, Arsenals, Dockyards,\\nand other needful Buildings;--And\\n\\nTo make all Laws which shall be necessary and proper for carrying\\ninto Execution the foregoing Powers, and all other Powers vested\\nby this Constitution in the Government of the United States,\\nor in any Department or Officer thereof.\\n\\nSection 9. The Migration or Importation of such Persons as any\\nof the States now existing shall think proper to admit, shall not\\nbe prohibited by the Congress prior to the Year one thousand eight\\nhundred and eight, but a Tax or Duty may be imposed on such Importation,\\nnot exceeding ten dollars for each Person.\\n\\nThe Privilege of the Writ of Habeas Corpus shall not be suspended, unless\\nwhen in Cases of Rebellion or Invasion the public Safety may require it.\\n\\nNo Bill of Attainder or ex post facto Law shall be passed.\\n\\nNo Capitation, or other direct, Tax shall be laid, unless in Proportion\\nto the Census or Enumeration herein before directed to be taken.\\n\\nNo Tax or Duty shall be laid on Articles exported from any State.\\n\\nNo Preference shall be given by any Regulation of Commerce or Revenue\\nto the Ports of one State over those of another: nor shall Vessels bound to,\\nor from, one State, be obliged to enter, clear, or pay Duties in another.\\n\\nNo Money shall be drawn from the Treasury, but in Consequence\\nof Appropriations made by Law; and a regular Statement and Account\\nof the Receipts and Expenditures of all public Money shall be\\npublished from time to time.\\n\\nNo Title of Nobility shall be granted by the United States;\\nand no Person holding any Office of Profit or Trust under them, shall,\\nwithout the Consent of the Congress, accept of any present, Emolument,\\nOffice, or Title, of any kind whatever, from any King, Prince,\\nor foreign State.\\n\\nSection 10. No State shall enter into any Treaty, Alliance, or\\nConfederation; grant Letters of Marque and Reprisal; coin Money;\\nemit Bills of Credit; make any Thing but gold and silver Coin a Tender\\nin Payment of Debts; pass any Bill of Attainder, ex post facto Law,\\nor Law impairing the Obligation of Contracts, or grant any Title of Nobility.\\n\\nNo State shall, without the Consent of the Congress, lay any Imposts or Duties\\non Imports or Exports, except what may be absolutely necessary for executing\\nit\\'s inspection Laws: and the net Produce of all Duties and Imposts,\\nlaid by any State on Imports or Exports, shall be for the Use of the Treasury\\nof the United States; and all such Laws shall be subject to the Revision\\nand Controul of the Congress.\\n\\n\\nNo State shall, without the Consent of Congress, lay any Duty of\\nTonnage, keep Troops, or Ships of War in time of Peace, enter into any\\nAgreement or Compact with another State, or with a foreign Power, or\\nengage in War, unless actually invaded, or in such imminent Danger\\nas will not admit of delay.\\n\\nARTICLE 2\\n\\nSection 1. The executive Power shall be vested in a President\\nof the United States of America. He shall hold his Office during\\nthe Term of four Years, and, together with the Vice President\\nchosen for the same Term, be elected, as follows:\\n\\nEach State shall appoint, in such Manner as the Legislature thereof may direct,\\na Number of Electors, equal to the whole Number of Senators and Representatives\\nto which the State may be entitled in the Congress: but no Senator or\\nRepresentative, or Person holding an Office of Trust or Profit under\\nthe United States, shall be appointed an Elector.\\n\\nThe Electors shall meet in their respective States, and vote by Ballot\\nfor two Persons, of whom one at least shall not lie an Inhabitant of\\nthe same State with themselves. And they shall make a List of\\nall the Persons voted for, and of the Number of Votes for each;\\nwhich List they shall sign and certify, and transmit sealed to\\nthe Seat of the Government of the United States, directed to the\\nPresident of the Senate. The President of the Senate shall,\\nin the Presence of the Senate and House of Representatives,\\nopen all the Certificates, and the Votes shall then be counted.\\nThe Person having the greatest Number of Votes shall be the President,\\nif such Number be a Majority of the whole Number of Electors appointed;\\nand if there be more than one who have such Majority, and have an equal\\nNumber of votes, then the House of Representatives shall immediately\\nchuse by Ballot one of them for President; and if no Person have\\na Majority, then from the five highest on the List the said House\\nshall in like Manner chuse the President. But in chusing the President,\\nthe Votes shall be taken by States, the Representation from each State\\nhaving one Vote; a Quorum for this Purpose shall consist of a Member\\nor Members from two thirds of the States, and a Majority of all the\\nStates shall be necessary to a Choice. In every Case, after the Choice\\nof the President, the Person having the greatest Number of Votes of\\nthe Electors shall be the Vice President. But if there should remain\\ntwo or more who have equal Votes, the Senate shall chuse from them\\nby Ballot the Vice President.\\n\\nThe Congress may determine the Time of chusing the Electors,\\nand the Day on which they shall give their Votes; which Day\\nshall be the same throughout the United States.\\n\\nNo Person except a natural born Citizen, or a Citizen of the United States,\\nat the time of the Adoption of this Constitution, shall be eligible to\\nthe Office of President; neither shall any Person be eligible to that\\nOffice who shall not have attained to the Age of thirty five Years,\\nand been fourteen Years a Resident within the United States.\\n\\nIn Case of the Removal of the President from Office, or of his Death,\\nResignation, or Inability to discharge the Powers and Duties of the\\nsaid Office, the Same shall devolve on the Vice President, and the\\nCongress may by Law provide for the Case of Removal, Death, Resignation\\nor Inability, both of the President and Vice President, declaring what\\nOfficer shall then act as President, and such Officer shall act accordingly,\\nuntil the Disability be removed, or a President shall be elected.\\n\\nThe President shall, at stated Times, receive for his Services,\\na Compensation, which shall neither be encreased nor diminished during\\nthe Period for which he shall have been elected, and he shall not receive\\nwithin that Period any other Emolument from the United States, or any of them.\\n\\nBefore he enter on the Execution of his Office, he shall take the\\nfollowing Oath or Affirmation:--\"I do solemnly swear (or affirm) that\\nI will faithfully execute the Office of President of the United States,\\nand will to the best of my Ability, preserve, protect and defend the\\nConstitution of the United States.\"\\n\\nSection 2. The President shall be Commander in Chief of the Army\\nand Navy of the United States, and of the Militia of the several States,\\nwhen called into the actual Service of the United States;\\nhe may require the Opinion, in writing, of the principal Officer\\nin each of the executive Departments, upon any Subject relating to\\nthe Duties of their respective Offices, and he shall have Power\\nto grant Reprieves and Pardons for Offenses against the United States,\\nexcept in Cases of impeachment.\\n\\nHe shall have Power, by and with the Advice and Consent of the\\nSenate, to make Treaties, provided two thirds of the Senators\\npresent concur; and he shall nominate, and by and with the Advice\\nand Consent of the Senate, shall appoint Ambassadors, other public\\nMinisters and Consuls, Judges of the supreme Court, and all other\\nOfficers of the United States, whose Appointments are not herein\\notherwise provided for, and which shall be established by Law:\\nbut the Congress may by Law vest the Appointment of such inferior Officers,\\nas they think proper, in the President alone, in the Courts of Law,\\nor in the Heads of Departments.\\n\\nThe President shall have Power to fill up all Vacancies that may happen\\nduring the Recess of the Senate, by granting Commissions which shall\\nexpire at the End of their next session.\\n\\nSection 3. He shall from time to time give to the Congress\\nInformation of the State of the Union, and recommend to their\\nConsideration such Measures as he shall judge necessary and expedient;\\nhe may, on extraordinary Occasions, convene both Houses, or either\\nof them, and in Case of Disagreement between them, with Respect to\\nthe Time of Adjournment, he may adjourn them to such Time as he shall\\nthink proper; he shall receive Ambassadors and other public Ministers;\\nhe shall take Care that the Laws be faithfully executed, and shall\\nCommission all the Officers of the United States.\\n\\nSection 4. The President, Vice President and all civil Officers of the\\nUnited States, shall be removed from Office on Impeachment for,\\nand Conviction of, Treason, Bribery, or other high Crimes and Misdemeanors.\\n\\nARTICLE THREE\\n\\nSection 1. The judicial Power of the United States, shall be vested\\nin one supreme Court, and in such inferior Courts as the Congress may\\nfrom time to time ordain and establish. The Judges, both of the supreme\\nand inferior Courts, shall hold their Offices during good behavior,\\nand shall, at stated Times, receive for their Services, a Compensation,\\nwhich shall not be diminished during their Continuance in Office.\\n\\nSection 2. The judicial Power shall extend to all Cases, in Law and Equity,\\narising under this Constitution, the Laws of the United States, and Treaties\\nmade, or which shall be made, under their Authority;--to all Cases affecting\\nAmbassadors, other public Ministers and Consuls;--to all Cases of admiralty\\nand maritime Jurisdiction;--to Controversies to which the United States\\nshall be a Party;--to Controversies between two or more States;--between a\\nState and Citizens of another State;--between Citizens of different States;\\n--between Citizens of the same State claiming Lands under Grants of\\ndifferent States, and between a State, or the Citizens thereof,\\nand foreign States, Citizens or Subjects.\\n\\nIn all cases affecting Ambassadors, other public Ministers and Consuls,\\nand those in which a State shall be Party, the supreme Court shall have\\noriginal Jurisdiction. In all the other Cases before mentioned, the\\nsupreme Court shall have appellate Jurisdiction, both as to Law and Fact,\\nwith such Exceptions, and under such Regulations as the Congress shall make.\\n\\nThe Trial of all Crimes, except in Cases of Impeachment, shall be by Jury;\\nand such Trial shall be held in the State where the said Crimes shall\\nhave been committed; but when not committed within any State, the Trial\\nshall be at such Place or Places as the Congress may by Law have directed.\\n\\nSection 3. Treason against the United States, shall consist only in\\nlevying War against them, or in adhering to their Enemies, giving them\\nAid and Comfort. No Person shall be convicted of Treason unless on\\nthe Testimony of two Witnesses to the same overt Act, or on Confession\\nin open Court.\\n\\nThe Congress shall have power to declare the punishment of Treason,\\nbut no Attainder of Treason shall work Corruption of Blood,\\nor Forfeiture except during the Life of the Person attainted.\\n\\n\\nARTICLE FOUR\\n\\nSection 1. Full Faith and Credit shall be given in each State to the\\npublic Acts, Records, and judicial Proceedings of every other State.\\nAnd the Congress may by general Laws prescribe the Manner in which such Acts,\\nRecords, and Proceedings shall be proved, and the Effect thereof.\\n\\n\\nSection 2. The Citizens of each State shall be entitled to all\\nPrivileges and Immunities of Citizens in the several States.\\n\\nA Person charged in any State with Treason, Felony, or other Crime,\\nwho shall flee from Justice, and be found in another State,\\nshall on Demand of the executive Authority of the State from\\nwhich he fled, be delivered up, to be removed to the State having\\nJurisdiction of the Crime.\\n\\nNo person held to Service or Labor in one State, under the Laws thereof,\\nescaping into another, shall, in Consequence of any Law or Regulation therein,\\nbe discharged from such Service or Labor, But shall be delivered up on Claim\\nof the Party to whom such Service or Labor may be due.\\n\\n\\nSection 3. New States may be admitted by the Congress into this Union;\\nbut no new States shall be formed or erected within the Jurisdiction\\nof any other State; nor any State be formed by the Junction of two\\nor more States, or Parts of States, without the Consent of the\\nLegislatures of the States concerned as well as of the Congress.\\n\\nThe Congress shall have Power to dispose of and make all needful Rules\\nand Regulations respecting the Territory or other Property belonging\\nto the United States; and nothing in this Constitution shall be so\\nconstrued as to Prejudice any Claims of the United States,\\nor of any particular State.\\n\\nSection 4. The United States shall guarantee to every State in this Union\\na Republican Form of Government, and shall protect each of them against\\nInvasion; and on Application of the Legislature, or of the Executive\\n(when the Legislature cannot be convened) against domestic Violence.\\n\\n\\nARTICLE FIVE\\n\\nThe Congress, whenever two thirds of both Houses shall deem it necessary,\\nshall propose Amendments to this Constitution, or, on the Application of\\nthe Legislatures of two thirds of the several States, shall call a Convention\\nfor proposing Amendments, which, in either Case, shall be valid to all Intents\\nand Purposes, as Part of this Constitution, when ratified by the Legislatures\\nof three fourths of the several States, or by Conventions in three fourths\\nthereof, as the one or the other Mode of Ratification may be proposed by\\nthe Congress; Provided that no Amendment which may be made prior to the\\nYear one thousand eight hundred and eight shall in any Manner affect\\nthe first and fourth Clauses in the ninth Section of the first Article;\\nand that no State, without its Consent, shall be deprived of it\\'s\\nequal Suffrage in the Senate.\\n\\nARTICLE SIX\\n\\nAll Debts contracted and Engagements entered into, before the Adoption\\nof this Constitution, shall be as valid against the United States\\nunder this Constitution, as under the Confederation.\\n\\nThis Constitution, and the Laws of the United States which shall be made\\nin Pursuance thereof; and all Treaties made, or which shall be made,\\nunder the Authority of the United States, shall be the supreme\\nLaw of the Land; and the Judges in every State shall be bound thereby,\\nany Thing in the Constitution or Laws of any State to the Contrary\\nnotwithstanding.\\n\\nThe Senators and Representatives before mentioned, and the Members of the\\nseveral State Legislatures, and all executive and judicial Officers,\\nboth of the United States and of the several States, shall be bound\\nby Oath or Affirmation, to support this Constitution; but no religious\\nTest shall ever be required as a Qualification to any Office or public Trust\\nunder the United States\\n\\nARTICLE SEVEN\\n\\nThe Ratification of the Conventions of nine States, shall be sufficient for the\\nEstablishment of this Constitution between the States so ratifying the Same.\\n\\nDone in Convention by the Unanimous Consent of the States present\\nthe Seventeenth Day of September in the Year of our Lord one\\nthousand seven hundred and eighty seven and of the Independence of the\\nUnited States of America the Twelfth In Witness whereof We have\\nhereunto subscribed our Names,\\n\\nGo. WASHINGTON--\\nPresid. and deputy from Virginia\\n\\nNew Hampshire\\n\\nJohn Langdon\\nNicholas Gilman\\n\\nMassachusetts\\n\\nNathaniel Gorham\\nRufus King\\n\\nConnecticut\\n\\nWm. Saml. Johnson\\nRoger herman\\n\\nNew York\\n\\nAlexander Hamilton\\n\\nNew Jersey\\n\\nWil: Livingston\\nDavid Brearley\\nWm. Paterson\\nJona: Dayton\\n\\nPennsylvania\\n\\nB Franklin\\nThomas Mifflin\\nRobt Morris\\nGeo. Clymer\\nThos FitzSimons\\nJared Ingersoll\\nJames Wilson\\nGouv Morris\\n\\nDelaware\\n\\nGeo: Read\\nGunning Bedford jun\\nJohn Dickinson\\nRichard Bassett\\nJaco: Broom\\n\\nMaryland\\n\\nJames Mchenry\\nDan of St Thos. Jenifer\\nDanl Carroll\\n\\nVirginia\\n\\nJohn Blair--\\nJames Madison Jr.\\n\\nNorth Carolina\\n\\nWm. Blount\\nRich\\'d Dobbs Spaight\\nHu Williamson\\n\\nSouth Carolina\\n\\nJ. Rutledge\\nCharles Cotesworth Pinckney\\nCharles Pinckney\\nPierce Butler\\n\\nGeorgia\\n\\nWilliam Few\\nAbr Baldwin\\n\\n\\nAttest:\\nWilliam Jackson, Secretary\\n\\n\\n\\n\\nDecember, 1975 [Etext #6]\\n\\n'}\n",
            "dict_keys(['id', 'author', 'title', 'text'])\n"
          ]
        }
      ]
    },
    {
      "cell_type": "markdown",
      "source": [
        "Your task now is to **tokenize** the text in the `text` field of each record into an array of words. Later on in this course, we will discuss learning better tokenizers. For now, you should separate words on whitespace (space, newline, tab) and punctuation. Convert the tokens to lower case, and keep only those tokens that have at least one letter a-z in them. In general, numerals in text tend not to follow Zipf's law but [Benford's law](https://en.wikipedia.org/wiki/Benford%27s_law). After you have tokenized, compute $N$, the total number of tokens in the corpus and print it out."
      ],
      "metadata": {
        "id": "XbfYV9Fyi2UC"
      }
    },
    {
      "cell_type": "code",
      "source": [
        "# TODO: Compute an array of tokens in the corpus\n",
        "# Compute the total number of tokens N and print it out."
      ],
      "metadata": {
        "id": "EsVzek9vkgFc"
      },
      "execution_count": null,
      "outputs": []
    },
    {
      "cell_type": "markdown",
      "source": [
        "Now, count the frequency each unigram (distinct word) in the corpus and sort them in an array in descending order of frequency. The first item in your array should be the most common word. Print out that word and its frequency"
      ],
      "metadata": {
        "id": "XkRccWKsk4TE"
      }
    },
    {
      "cell_type": "code",
      "source": [
        "# TODO: Compute an arrary of unigrams in descending order of frequency.\n",
        "# Print the most common word and its frequency."
      ],
      "metadata": {
        "id": "jhJ7ec3jk2eS"
      },
      "execution_count": null,
      "outputs": []
    },
    {
      "cell_type": "markdown",
      "source": [
        "Now, you can look at the Zipf's law relationship between rank and relative frequency (i.e., frequency divided by $N$). Plot the data using a python graphing package such as matplotlib, plotly, or plotnine. This doesn't have to be a fancy graph, so use whatever you're familiar with. Both axes should be on a log scale. If your package doesn't support log scales, you can take the log of the rank and relative frequency yourself before plotting. Recall that since python arrays are zero-indexed, the rank 1 word will be element 0 of your sorted array."
      ],
      "metadata": {
        "id": "ubHNre1ollvl"
      }
    },
    {
      "cell_type": "code",
      "source": [
        "# TODO: Plot rank vs. relative frequency of unigrams."
      ],
      "metadata": {
        "id": "H1wq5OGBmJP1"
      },
      "execution_count": null,
      "outputs": []
    },
    {
      "cell_type": "markdown",
      "source": [
        "Now, take your array of tokens and compute the counts of both the bigrams and trigrams and sort them in descending order of frequency. Print out the most common bigram and trigram."
      ],
      "metadata": {
        "id": "dTVQFNXOmc34"
      }
    },
    {
      "cell_type": "code",
      "source": [
        "# TODO: Compute sorted bigram and trigram statistics.\n",
        "# Print out the most common bigram and trigram.\n",
        "# Plot rank vs. relative frequency for bigrams and trigrams.\n",
        "# You may make separate plots or put them on the same plot and label them."
      ],
      "metadata": {
        "id": "glYoeIsJmm_d"
      },
      "execution_count": null,
      "outputs": []
    },
    {
      "cell_type": "markdown",
      "source": [
        "**TODO**: Finally, write your visual impressions of the fit of the unigram, bigram, and trigram distributions. This doesn't need to be statistically rigorous."
      ],
      "metadata": {
        "id": "TdUTKyE6m0qF"
      }
    }
  ]
}